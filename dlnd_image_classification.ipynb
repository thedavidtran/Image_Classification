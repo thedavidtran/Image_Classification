{
 "cells": [
  {
   "cell_type": "markdown",
   "metadata": {
    "collapsed": true
   },
   "source": [
    "# Image Classification\n",
    "In this project, you'll classify images from the [CIFAR-10 dataset](https://www.cs.toronto.edu/~kriz/cifar.html).  The dataset consists of airplanes, dogs, cats, and other objects. You'll preprocess the images, then train a convolutional neural network on all the samples. The images need to be normalized and the labels need to be one-hot encoded.  You'll get to apply what you learned and build a convolutional, max pooling, dropout, and fully connected layers.  At the end, you'll get to see your neural network's predictions on the sample images.\n",
    "## Get the Data\n",
    "Run the following cell to download the [CIFAR-10 dataset for python](https://www.cs.toronto.edu/~kriz/cifar-10-python.tar.gz)."
   ]
  },
  {
   "cell_type": "code",
   "execution_count": 136,
   "metadata": {
    "collapsed": false
   },
   "outputs": [
    {
     "name": "stdout",
     "output_type": "stream",
     "text": [
      "All files found!\n"
     ]
    }
   ],
   "source": [
    "\"\"\"\n",
    "DON'T MODIFY ANYTHING IN THIS CELL THAT IS BELOW THIS LINE\n",
    "\"\"\"\n",
    "from urllib.request import urlretrieve\n",
    "from os.path import isfile, isdir\n",
    "from tqdm import tqdm\n",
    "import problem_unittests as tests\n",
    "import tarfile\n",
    "\n",
    "cifar10_dataset_folder_path = 'cifar-10-batches-py'\n",
    "\n",
    "class DLProgress(tqdm):\n",
    "    last_block = 0\n",
    "\n",
    "    def hook(self, block_num=1, block_size=1, total_size=None):\n",
    "        self.total = total_size\n",
    "        self.update((block_num - self.last_block) * block_size)\n",
    "        self.last_block = block_num\n",
    "\n",
    "if not isfile('cifar-10-python.tar.gz'):\n",
    "    with DLProgress(unit='B', unit_scale=True, miniters=1, desc='CIFAR-10 Dataset') as pbar:\n",
    "        urlretrieve(\n",
    "            'https://www.cs.toronto.edu/~kriz/cifar-10-python.tar.gz',\n",
    "            'cifar-10-python.tar.gz',\n",
    "            pbar.hook)\n",
    "\n",
    "if not isdir(cifar10_dataset_folder_path):\n",
    "    with tarfile.open('cifar-10-python.tar.gz') as tar:\n",
    "        tar.extractall()\n",
    "        tar.close()\n",
    "\n",
    "\n",
    "tests.test_folder_path(cifar10_dataset_folder_path)"
   ]
  },
  {
   "cell_type": "markdown",
   "metadata": {},
   "source": [
    "## Explore the Data\n",
    "The dataset is broken into batches to prevent your machine from running out of memory.  The CIFAR-10 dataset consists of 5 batches, named `data_batch_1`, `data_batch_2`, etc.. Each batch contains the labels and images that are one of the following:\n",
    "* airplane\n",
    "* automobile\n",
    "* bird\n",
    "* cat\n",
    "* deer\n",
    "* dog\n",
    "* frog\n",
    "* horse\n",
    "* ship\n",
    "* truck\n",
    "\n",
    "Understanding a dataset is part of making predictions on the data.  Play around with the code cell below by changing the `batch_id` and `sample_id`. The `batch_id` is the id for a batch (1-5). The `sample_id` is the id for a image and label pair in the batch.\n",
    "\n",
    "Ask yourself \"What are all possible labels?\", \"What is the range of values for the image data?\", \"Are the labels in order or random?\".  Answers to questions like these will help you preprocess the data and end up with better predictions."
   ]
  },
  {
   "cell_type": "code",
   "execution_count": 137,
   "metadata": {
    "collapsed": false
   },
   "outputs": [
    {
     "name": "stdout",
     "output_type": "stream",
     "text": [
      "\n",
      "Stats of batch 3:\n",
      "Samples: 10000\n",
      "Label Counts: {0: 994, 1: 1042, 2: 965, 3: 997, 4: 990, 5: 1029, 6: 978, 7: 1015, 8: 961, 9: 1029}\n",
      "First 20 Labels: [8, 5, 0, 6, 9, 2, 8, 3, 6, 2, 7, 4, 6, 9, 0, 0, 7, 3, 7, 2]\n",
      "\n",
      "Example of Image 50:\n",
      "Image - Min Value: 5 Max Value: 254\n",
      "Image - Shape: (32, 32, 3)\n",
      "Label - Label Id: 3 Name: cat\n"
     ]
    },
    {
     "data": {
      "image/png": "[encoded data removed]",
      "text/plain": [
       "<matplotlib.figure.Figure at 0x1bbed486b00>"
      ]
     },
     "metadata": {
      "image/png": {
       "height": 250,
       "width": 253
      }
     },
     "output_type": "display_data"
    }
   ],
   "source": [
    "%matplotlib inline\n",
    "%config InlineBackend.figure_format = 'retina'\n",
    "\n",
    "import helper\n",
    "import numpy as np\n",
    "\n",
    "# Explore the dataset\n",
    "batch_id = 3\n",
    "sample_id = 50\n",
    "helper.display_stats(cifar10_dataset_folder_path, batch_id, sample_id)"
   ]
  },
  {
   "cell_type": "markdown",
   "metadata": {},
   "source": [
    "## Implement Preprocess Functions\n",
    "### Normalize\n",
    "In the cell below, implement the `normalize` function to take in image data, `x`, and return it as a normalized Numpy array. The values should be in the range of 0 to 1, inclusive.  The return object should be the same shape as `x`."
   ]
  },
  {
   "cell_type": "code",
   "execution_count": 138,
   "metadata": {
    "collapsed": false
   },
   "outputs": [
    {
     "name": "stdout",
     "output_type": "stream",
     "text": [
      "Tests Passed\n"
     ]
    }
   ],
   "source": [
    "def normalize(x):\n",
    "    \"\"\"\n",
    "    Normalize a list of sample image data in the range of 0 to 1\n",
    "    : x: List of image data.  The image shape is (32, 32, 3)\n",
    "    : return: Numpy array of normalize data\n",
    "    \"\"\"\n",
    "    # RGB channels\n",
    "    # 8-bit color graphics is adopt to store image files in this dataset so that each pixel is represented by one 8-bit byte. 2^8 = 256\n",
    "    return np.array(x / 255)\n",
    "\n",
    "\n",
    "\"\"\"\n",
    "DON'T MODIFY ANYTHING IN THIS CELL THAT IS BELOW THIS LINE\n",
    "\"\"\"\n",
    "tests.test_normalize(normalize)"
   ]
  },
  {
   "cell_type": "markdown",
   "metadata": {},
   "source": [
    "### One-hot encode\n",
    "Just like the previous code cell, you'll be implementing a function for preprocessing.  This time, you'll implement the `one_hot_encode` function. The input, `x`, are a list of labels.  Implement the function to return the list of labels as One-Hot encoded Numpy array.  The possible values for labels are 0 to 9. The one-hot encoding function should return the same encoding for each value between each call to `one_hot_encode`.  Make sure to save the map of encodings outside the function.\n",
    "\n",
    "Hint: Don't reinvent the wheel."
   ]
  },
  {
   "cell_type": "code",
   "execution_count": 139,
   "metadata": {
    "collapsed": false
   },
   "outputs": [
    {
     "name": "stdout",
     "output_type": "stream",
     "text": [
      "Tests Passed\n"
     ]
    }
   ],
   "source": [
    "from sklearn import preprocessing\n",
    "\n",
    "lb = preprocessing.LabelBinarizer()\n",
    "\n",
    "def one_hot_encode(x):\n",
    "    \"\"\"\n",
    "    One hot encode a list of sample labels. Return a one-hot encoded vector for each label.\n",
    "    : x: List of sample Labels\n",
    "    : return: Numpy array of one-hot encoded labels\n",
    "    \"\"\"\n",
    "    lb.fit(x)\n",
    "    lb.classes_ = np.array(list(range(10)))\n",
    "    return lb.transform(x)\n",
    "\n",
    "\"\"\"\n",
    "DON'T MODIFY ANYTHING IN THIS CELL THAT IS BELOW THIS LINE\n",
    "\"\"\"\n",
    "tests.test_one_hot_encode(one_hot_encode)"
   ]
  },
  {
   "cell_type": "markdown",
   "metadata": {},
   "source": [
    "### Randomize Data\n",
    "As you saw from exploring the data above, the order of the samples are randomized.  It doesn't hurt to randomize it again, but you don't need to for this dataset."
   ]
  },
  {
   "cell_type": "markdown",
   "metadata": {},
   "source": [
    "## Preprocess all the data and save it\n",
    "Running the code cell below will preprocess all the CIFAR-10 data and save it to file. The code below also uses 10% of the training data for validation."
   ]
  },
  {
   "cell_type": "code",
   "execution_count": 140,
   "metadata": {
    "collapsed": false
   },
   "outputs": [],
   "source": [
    "\"\"\"\n",
    "DON'T MODIFY ANYTHING IN THIS CELL\n",
    "\"\"\"\n",
    "# Preprocess Training, Validation, and Testing Data\n",
    "helper.preprocess_and_save_data(cifar10_dataset_folder_path, normalize, one_hot_encode)"
   ]
  },
  {
   "cell_type": "markdown",
   "metadata": {},
   "source": [
    "# Check Point\n",
    "This is your first checkpoint.  If you ever decide to come back to this notebook or have to restart the notebook, you can start from here.  The preprocessed data has been saved to disk."
   ]
  },
  {
   "cell_type": "code",
   "execution_count": 141,
   "metadata": {
    "collapsed": true
   },
   "outputs": [],
   "source": [
    "\"\"\"\n",
    "DON'T MODIFY ANYTHING IN THIS CELL\n",
    "\"\"\"\n",
    "import pickle\n",
    "import problem_unittests as tests\n",
    "import helper\n",
    "\n",
    "# Load the Preprocessed Validation data\n",
    "valid_features, valid_labels = pickle.load(open('preprocess_validation.p', mode='rb'))"
   ]
  },
  {
   "cell_type": "markdown",
   "metadata": {},
   "source": [
    "## Build the network\n",
    "For the neural network, you'll build each layer into a function.  Most of the code you've seen has been outside of functions. To test your code more thoroughly, we require that you put each layer in a function.  This allows us to give you better feedback and test for simple mistakes using our unittests before you submit your project.\n",
    "\n",
    ">**Note:** If you're finding it hard to dedicate enough time for this course each week, we've provided a small shortcut to this part of the project. In the next couple of problems, you'll have the option to use classes from the [TensorFlow Layers](https://www.tensorflow.org/api_docs/python/tf/layers) or [TensorFlow Layers (contrib)](https://www.tensorflow.org/api_guides/python/contrib.layers) packages to build each layer, except the layers you build in the \"Convolutional and Max Pooling Layer\" section.  TF Layers is similar to Keras's and TFLearn's abstraction to layers, so it's easy to pickup.\n",
    "\n",
    ">However, if you would like to get the most out of this course, try to solve all the problems _without_ using anything from the TF Layers packages. You **can** still use classes from other packages that happen to have the same name as ones you find in TF Layers! For example, instead of using the TF Layers version of the `conv2d` class, [tf.layers.conv2d](https://www.tensorflow.org/api_docs/python/tf/layers/conv2d), you would want to use the TF Neural Network version of `conv2d`, [tf.nn.conv2d](https://www.tensorflow.org/api_docs/python/tf/nn/conv2d). \n",
    "\n",
    "Let's begin!\n",
    "\n",
    "### Input\n",
    "The neural network needs to read the image data, one-hot encoded labels, and dropout keep probability. Implement the following functions\n",
    "* Implement `neural_net_image_input`\n",
    " * Return a [TF Placeholder](https://www.tensorflow.org/api_docs/python/tf/placeholder)\n",
    " * Set the shape using `image_shape` with batch size set to `None`.\n",
    " * Name the TensorFlow placeholder \"x\" using the TensorFlow `name` parameter in the [TF Placeholder](https://www.tensorflow.org/api_docs/python/tf/placeholder).\n",
    "* Implement `neural_net_label_input`\n",
    " * Return a [TF Placeholder](https://www.tensorflow.org/api_docs/python/tf/placeholder)\n",
    " * Set the shape using `n_classes` with batch size set to `None`.\n",
    " * Name the TensorFlow placeholder \"y\" using the TensorFlow `name` parameter in the [TF Placeholder](https://www.tensorflow.org/api_docs/python/tf/placeholder).\n",
    "* Implement `neural_net_keep_prob_input`\n",
    " * Return a [TF Placeholder](https://www.tensorflow.org/api_docs/python/tf/placeholder) for dropout keep probability.\n",
    " * Name the TensorFlow placeholder \"keep_prob\" using the TensorFlow `name` parameter in the [TF Placeholder](https://www.tensorflow.org/api_docs/python/tf/placeholder).\n",
    "\n",
    "These names will be used at the end of the project to load your saved model.\n",
    "\n",
    "Note: `None` for shapes in TensorFlow allow for a dynamic size."
   ]
  },
  {
   "cell_type": "code",
   "execution_count": 142,
   "metadata": {
    "collapsed": false
   },
   "outputs": [
    {
     "name": "stdout",
     "output_type": "stream",
     "text": [
      "Image Input Tests Passed.\n",
      "Label Input Tests Passed.\n",
      "Keep Prob Tests Passed.\n"
     ]
    }
   ],
   "source": [
    "import tensorflow as tf\n",
    "\n",
    "def neural_net_image_input(image_shape):\n",
    "    \"\"\"\n",
    "    Return a Tensor for a batch of image input\n",
    "    : image_shape: Shape of the images\n",
    "    : return: Tensor for image input.\n",
    "    \"\"\"\n",
    "    # image_shape is a tuple (x, y, pixel_depth)\n",
    "    return tf.placeholder(tf.float32, shape=[None, *image_shape], name='x')\n",
    "\n",
    "\n",
    "def neural_net_label_input(n_classes):\n",
    "    \"\"\"\n",
    "    Return a Tensor for a batch of label input\n",
    "    : n_classes: Number of classes\n",
    "    : return: Tensor for label input.\n",
    "    \"\"\"\n",
    "    return tf.placeholder(tf.float32, shape=[None, n_classes], name='y')\n",
    "\n",
    "\n",
    "def neural_net_keep_prob_input():\n",
    "    \"\"\"\n",
    "    Return a Tensor for keep probability\n",
    "    : return: Tensor for keep probability.\n",
    "    \"\"\"\n",
    "    return tf.placeholder(tf.float32, name='keep_prob')\n",
    "\n",
    "\n",
    "\"\"\"\n",
    "DON'T MODIFY ANYTHING IN THIS CELL THAT IS BELOW THIS LINE\n",
    "\"\"\"\n",
    "tf.reset_default_graph()\n",
    "tests.test_nn_image_inputs(neural_net_image_input)\n",
    "tests.test_nn_label_inputs(neural_net_label_input)\n",
    "tests.test_nn_keep_prob_inputs(neural_net_keep_prob_input)"
   ]
  },
  {
   "cell_type": "markdown",
   "metadata": {},
   "source": [
    "### Convolution and Max Pooling Layer\n",
    "Convolution layers have a lot of success with images. For this code cell, you should implement the function `conv2d_maxpool` to apply convolution then max pooling:\n",
    "* Create the weight and bias using `conv_ksize`, `conv_num_outputs` and the shape of `x_tensor`.\n",
    "* Apply a convolution to `x_tensor` using weight and `conv_strides`.\n",
    " * We recommend you use same padding, but you're welcome to use any padding.\n",
    "* Add bias\n",
    "* Add a nonlinear activation to the convolution.\n",
    "* Apply Max Pooling using `pool_ksize` and `pool_strides`.\n",
    " * We recommend you use same padding, but you're welcome to use any padding.\n",
    "\n",
    "**Note:** You **can't** use [TensorFlow Layers](https://www.tensorflow.org/api_docs/python/tf/layers) or [TensorFlow Layers (contrib)](https://www.tensorflow.org/api_guides/python/contrib.layers) for **this** layer, but you can still use TensorFlow's [Neural Network](https://www.tensorflow.org/api_docs/python/tf/nn) package. You may still use the shortcut option for all the **other** layers."
   ]
  },
  {
   "cell_type": "code",
   "execution_count": 143,
   "metadata": {
    "collapsed": false
   },
   "outputs": [
    {
     "name": "stdout",
     "output_type": "stream",
     "text": [
      "Tests Passed\n"
     ]
    }
   ],
   "source": [
    "def conv2d_maxpool(x_tensor, conv_num_outputs, conv_ksize, conv_strides, pool_ksize, pool_strides):\n",
    "    \"\"\"\n",
    "    Apply convolution then max pooling to x_tensor\n",
    "    :param x_tensor: TensorFlow Tensor\n",
    "    :param conv_num_outputs: Number of outputs for the convolutional layer\n",
    "    :param conv_ksize: kernal size 2-D Tuple for the convolutional layer\n",
    "    :param conv_strides: Stride 2-D Tuple for convolution\n",
    "    :param pool_ksize: kernal size 2-D Tuple for pool\n",
    "    :param pool_strides: Stride 2-D Tuple for pool\n",
    "    : return: A tensor that represents convolution and max pooling of x_tensor\n",
    "    \"\"\"\n",
    "    input_channel_depth = int(x_tensor.get_shape()[3])\n",
    "\n",
    "    conv_ksize_height = conv_ksize[0]\n",
    "    conv_ksize_width = conv_ksize[1]\n",
    "    conv_stride_height = conv_strides[0]\n",
    "    conv_stride_width = conv_strides[1]\n",
    "    \n",
    "    pool_ksize_height = pool_ksize[0]\n",
    "    pool_ksize_width = pool_ksize[1]\n",
    "    pool_stride_height = pool_strides[0]\n",
    "    pool_stride_width = pool_strides[1]\n",
    "\n",
    "    weights = tf.Variable(tf.truncated_normal([conv_ksize_height, conv_ksize_width, input_channel_depth, conv_num_outputs], mean=0.0, stddev=0.05, dtype=tf.float32))\n",
    "    biases = tf.Variable(tf.zeros(conv_num_outputs))\n",
    "    \n",
    "    layer = tf.nn.conv2d(input=x_tensor, filter=weights, strides=[1, conv_stride_height, conv_stride_width, 1], padding='SAME')\n",
    "    layer = tf.nn.bias_add(layer, biases)\n",
    "    layer = tf.nn.max_pool(layer, [1, pool_ksize_height, pool_ksize_width, 1], strides=[1, pool_stride_height, pool_stride_width, 1], padding='SAME')\n",
    "    return layer\n",
    "\n",
    "\n",
    "\"\"\"\n",
    "DON'T MODIFY ANYTHING IN THIS CELL THAT IS BELOW THIS LINE\n",
    "\"\"\"\n",
    "tests.test_con_pool(conv2d_maxpool)"
   ]
  },
  {
   "cell_type": "markdown",
   "metadata": {},
   "source": [
    "### Flatten Layer\n",
    "Implement the `flatten` function to change the dimension of `x_tensor` from a 4-D tensor to a 2-D tensor.  The output should be the shape (*Batch Size*, *Flattened Image Size*). Shortcut option: you can use classes from the [TensorFlow Layers](https://www.tensorflow.org/api_docs/python/tf/layers) or [TensorFlow Layers (contrib)](https://www.tensorflow.org/api_guides/python/contrib.layers) packages for this layer. For more of a challenge, only use other TensorFlow packages."
   ]
  },
  {
   "cell_type": "code",
   "execution_count": 144,
   "metadata": {
    "collapsed": false
   },
   "outputs": [
    {
     "name": "stdout",
     "output_type": "stream",
     "text": [
      "Tests Passed\n"
     ]
    }
   ],
   "source": [
    "def flatten(x_tensor):\n",
    "    \"\"\"\n",
    "    Flatten x_tensor to (Batch Size, Flattened Image Size)\n",
    "    : x_tensor: A tensor of size (Batch Size, ...), where ... are the image dimensions.\n",
    "    : return: A tensor of size (Batch Size, Flattened Image Size).\n",
    "    \"\"\"\n",
    "    # (batch_size, height, width, depth) => (batch_size, flattened_image_size)\n",
    "    shape = x_tensor.get_shape().as_list()\n",
    "    batch_size = shape[0] or -1\n",
    "    height = shape[1]\n",
    "    width = shape[2]\n",
    "    depth = shape[3]\n",
    "    flattened_image_size = height * width * depth\n",
    "\n",
    "    return tf.reshape(x_tensor, [batch_size, flattened_image_size])\n",
    "\n",
    "\n",
    "\"\"\"\n",
    "DON'T MODIFY ANYTHING IN THIS CELL THAT IS BELOW THIS LINE\n",
    "\"\"\"\n",
    "tests.test_flatten(flatten)"
   ]
  },
  {
   "cell_type": "markdown",
   "metadata": {},
   "source": [
    "### Fully-Connected Layer\n",
    "Implement the `fully_conn` function to apply a fully connected layer to `x_tensor` with the shape (*Batch Size*, *num_outputs*). Shortcut option: you can use classes from the [TensorFlow Layers](https://www.tensorflow.org/api_docs/python/tf/layers) or [TensorFlow Layers (contrib)](https://www.tensorflow.org/api_guides/python/contrib.layers) packages for this layer. For more of a challenge, only use other TensorFlow packages."
   ]
  },
  {
   "cell_type": "code",
   "execution_count": 145,
   "metadata": {
    "collapsed": false
   },
   "outputs": [
    {
     "name": "stdout",
     "output_type": "stream",
     "text": [
      "Tests Passed\n"
     ]
    }
   ],
   "source": [
    "def fully_conn(x_tensor, num_outputs):\n",
    "    \"\"\"\n",
    "    Apply a fully connected layer to x_tensor using weight and bias\n",
    "    : x_tensor: A 2-D tensor where the first dimension is batch size.\n",
    "    : num_outputs: The number of output that the new tensor should be.\n",
    "    : return: A 2-D tensor where the second dimension is num_outputs.\n",
    "    \"\"\"\n",
    "    batch_size = x_tensor.get_shape().as_list()[1]\n",
    "    weights = tf.Variable(tf.truncated_normal((batch_size, num_outputs), mean=0.0, stddev=0.01))\n",
    "    bias = tf.Variable(tf.zeros(num_outputs))\n",
    "\n",
    "    fully_conn_layer = tf.add(tf.matmul(x_tensor, weights), bias)\n",
    "    \n",
    "    return fully_conn_layer\n",
    "\n",
    "\"\"\"\n",
    "DON'T MODIFY ANYTHING IN THIS CELL THAT IS BELOW THIS LINE\n",
    "\"\"\"\n",
    "tests.test_fully_conn(fully_conn)"
   ]
  },
  {
   "cell_type": "markdown",
   "metadata": {},
   "source": [
    "### Output Layer\n",
    "Implement the `output` function to apply a fully connected layer to `x_tensor` with the shape (*Batch Size*, *num_outputs*). Shortcut option: you can use classes from the [TensorFlow Layers](https://www.tensorflow.org/api_docs/python/tf/layers) or [TensorFlow Layers (contrib)](https://www.tensorflow.org/api_guides/python/contrib.layers) packages for this layer. For more of a challenge, only use other TensorFlow packages.\n",
    "\n",
    "**Note:** Activation, softmax, or cross entropy should **not** be applied to this."
   ]
  },
  {
   "cell_type": "code",
   "execution_count": 146,
   "metadata": {
    "collapsed": false
   },
   "outputs": [
    {
     "name": "stdout",
     "output_type": "stream",
     "text": [
      "Tests Passed\n"
     ]
    }
   ],
   "source": [
    "def output(x_tensor, num_outputs):\n",
    "    \"\"\"\n",
    "    Apply a output layer to x_tensor using weight and bias\n",
    "    : x_tensor: A 2-D tensor where the first dimension is batch size.\n",
    "    : num_outputs: The number of output that the new tensor should be.\n",
    "    : return: A 2-D tensor where the second dimension is num_outputs.\n",
    "    \"\"\"\n",
    "    batch_size = x_tensor.get_shape().as_list()[1]\n",
    "    weights = tf.Variable(tf.truncated_normal((batch_size, num_outputs), mean=0.0, stddev=0.01, dtype=tf.float32, seed=None))\n",
    "    bias = tf.Variable(tf.zeros(num_outputs))\n",
    "    output_layer = tf.add(tf.matmul(x_tensor, weights), bias)\n",
    "    return output_layer\n",
    "\n",
    "\"\"\"\n",
    "DON'T MODIFY ANYTHING IN THIS CELL THAT IS BELOW THIS LINE\n",
    "\"\"\"\n",
    "tests.test_output(output)"
   ]
  },
  {
   "cell_type": "markdown",
   "metadata": {},
   "source": [
    "### Create Convolutional Model\n",
    "Implement the function `conv_net` to create a convolutional neural network model. The function takes in a batch of images, `x`, and outputs logits.  Use the layers you created above to create this model:\n",
    "\n",
    "* Apply 1, 2, or 3 Convolution and Max Pool layers\n",
    "* Apply a Flatten Layer\n",
    "* Apply 1, 2, or 3 Fully Connected Layers\n",
    "* Apply an Output Layer\n",
    "* Return the output\n",
    "* Apply [TensorFlow's Dropout](https://www.tensorflow.org/api_docs/python/tf/nn/dropout) to one or more layers in the model using `keep_prob`. "
   ]
  },
  {
   "cell_type": "code",
   "execution_count": 154,
   "metadata": {
    "collapsed": false
   },
   "outputs": [
    {
     "name": "stdout",
     "output_type": "stream",
     "text": [
      "Neural Network Built!\n"
     ]
    }
   ],
   "source": [
    "def conv_net(x, keep_prob):\n",
    "    \"\"\"\n",
    "    Create a convolutional neural network model\n",
    "    : x: Placeholder tensor that holds image data.\n",
    "    : keep_prob: Placeholder tensor that hold dropout keep probability.\n",
    "    : return: Tensor that represents logits\n",
    "    \"\"\"\n",
    "    # TODO: Apply 1, 2, or 3 Convolution and Max Pool layers\n",
    "    #    Play around with different number of outputs, kernel size and stride\n",
    "    # Function Definition from Above:\n",
    "    #    conv2d_maxpool(x_tensor, conv_num_outputs, conv_ksize, conv_strides, pool_ksize, pool_strides)\n",
    "    conv_num_outputs1 = 32\n",
    "    conv_num_outputs2 = 64\n",
    "    conv_ksize = (4, 4)\n",
    "    conv_strides = (2, 2)\n",
    "    pool_ksize = (3, 3)\n",
    "    pool_strides = (2, 2)\n",
    "    num_outputs = 10\n",
    "    \n",
    "    cnn = conv2d_maxpool(x, conv_num_outputs1, conv_ksize, conv_strides, pool_ksize, pool_strides)\n",
    "    cnn = conv2d_maxpool(cnn, conv_num_outputs2, conv_ksize, conv_strides, pool_ksize, pool_strides)\n",
    "\n",
    "    # TODO: Apply a Flatten Layer\n",
    "    # Function Definition from Above:\n",
    "    #   flatten(x_tensor)\n",
    "    cnn = flatten(cnn)\n",
    "\n",
    "    # TODO: Apply 1, 2, or 3 Fully Connected Layers\n",
    "    #    Play around with different number of outputs\n",
    "    # Function Definition from Above:\n",
    "    #   fully_conn(x_tensor, num_outputs)\n",
    "    cnn = fully_conn(cnn, 128)\n",
    "    cnn = fully_conn(cnn, 64)\n",
    "    cnn = tf.nn.dropout(cnn, 0.7)\n",
    "    \n",
    "    # TODO: Apply an Output Layer\n",
    "    #    Set this to the number of classes\n",
    "    # Function Definition from Above:\n",
    "    #   output(x_tensor, num_outputs)\n",
    "    output_layer = output(cnn, num_outputs)\n",
    "    return output_layer\n",
    "\n",
    "\"\"\"\n",
    "DON'T MODIFY ANYTHING IN THIS CELL THAT IS BELOW THIS LINE\n",
    "\"\"\"\n",
    "\n",
    "##############################\n",
    "## Build the Neural Network ##\n",
    "##############################\n",
    "\n",
    "# Remove previous weights, bias, inputs, etc..\n",
    "tf.reset_default_graph()\n",
    "\n",
    "# Inputs\n",
    "x = neural_net_image_input((32, 32, 3))\n",
    "y = neural_net_label_input(10)\n",
    "keep_prob = neural_net_keep_prob_input()\n",
    "\n",
    "# Model\n",
    "logits = conv_net(x, keep_prob)\n",
    "\n",
    "# Name logits Tensor, so that is can be loaded from disk after training\n",
    "logits = tf.identity(logits, name='logits')\n",
    "\n",
    "# Loss and Optimizer\n",
    "cost = tf.reduce_mean(tf.nn.softmax_cross_entropy_with_logits(logits=logits, labels=y))\n",
    "optimizer = tf.train.AdamOptimizer().minimize(cost)\n",
    "\n",
    "# Accuracy\n",
    "correct_pred = tf.equal(tf.argmax(logits, 1), tf.argmax(y, 1))\n",
    "accuracy = tf.reduce_mean(tf.cast(correct_pred, tf.float32), name='accuracy')\n",
    "\n",
    "tests.test_conv_net(conv_net)"
   ]
  },
  {
   "cell_type": "markdown",
   "metadata": {},
   "source": [
    "## Train the Neural Network\n",
    "### Single Optimization\n",
    "Implement the function `train_neural_network` to do a single optimization.  The optimization should use `optimizer` to optimize in `session` with a `feed_dict` of the following:\n",
    "* `x` for image input\n",
    "* `y` for labels\n",
    "* `keep_prob` for keep probability for dropout\n",
    "\n",
    "This function will be called for each batch, so `tf.global_variables_initializer()` has already been called.\n",
    "\n",
    "Note: Nothing needs to be returned. This function is only optimizing the neural network."
   ]
  },
  {
   "cell_type": "code",
   "execution_count": 155,
   "metadata": {
    "collapsed": false
   },
   "outputs": [
    {
     "name": "stdout",
     "output_type": "stream",
     "text": [
      "Tests Passed\n"
     ]
    }
   ],
   "source": [
    "def train_neural_network(session, optimizer, keep_probability, feature_batch, label_batch):\n",
    "    \"\"\"\n",
    "    Optimize the session on a batch of images and labels\n",
    "    : session: Current TensorFlow session\n",
    "    : optimizer: TensorFlow optimizer function\n",
    "    : keep_probability: keep probability\n",
    "    : feature_batch: Batch of Numpy image data\n",
    "    : label_batch: Batch of Numpy label data\n",
    "    \"\"\"\n",
    "    session.run(optimizer, feed_dict={x: feature_batch, y: label_batch, keep_prob: keep_probability})\n",
    "\n",
    "\"\"\"\n",
    "DON'T MODIFY ANYTHING IN THIS CELL THAT IS BELOW THIS LINE\n",
    "\"\"\"\n",
    "tests.test_train_nn(train_neural_network)"
   ]
  },
  {
   "cell_type": "markdown",
   "metadata": {},
   "source": [
    "### Show Stats\n",
    "Implement the function `print_stats` to print loss and validation accuracy.  Use the global variables `valid_features` and `valid_labels` to calculate validation accuracy.  Use a keep probability of `1.0` to calculate the loss and validation accuracy."
   ]
  },
  {
   "cell_type": "code",
   "execution_count": 156,
   "metadata": {
    "collapsed": false
   },
   "outputs": [],
   "source": [
    "def print_stats(session, feature_batch, label_batch, cost, accuracy):\n",
    "    \"\"\"\n",
    "    Print information about loss and validation accuracy\n",
    "    : session: Current TensorFlow session\n",
    "    : feature_batch: Batch of Numpy image data\n",
    "    : label_batch: Batch of Numpy label data\n",
    "    : cost: TensorFlow cost function\n",
    "    : accuracy: TensorFlow accuracy function\n",
    "    \"\"\"\n",
    "    acc = session.run(accuracy, feed_dict={x: valid_features, y: valid_labels, keep_prob: 1.})\n",
    "    loss = session.run(cost, feed_dict={x: feature_batch, y: label_batch})\n",
    "    print('Acc: {} Loss: {}'.format(acc, loss))"
   ]
  },
  {
   "cell_type": "markdown",
   "metadata": {},
   "source": [
    "### Hyperparameters\n",
    "Tune the following parameters:\n",
    "* Set `epochs` to the number of iterations until the network stops learning or start overfitting\n",
    "* Set `batch_size` to the highest number that your machine has memory for.  Most people set them to common sizes of memory:\n",
    " * 64\n",
    " * 128\n",
    " * 256\n",
    " * ...\n",
    "* Set `keep_probability` to the probability of keeping a node using dropout"
   ]
  },
  {
   "cell_type": "code",
   "execution_count": 157,
   "metadata": {
    "collapsed": true
   },
   "outputs": [],
   "source": [
    "# TODO: Tune Parameters\n",
    "epochs = 50\n",
    "batch_size = 512\n",
    "keep_probability = 0.8"
   ]
  },
  {
   "cell_type": "markdown",
   "metadata": {},
   "source": [
    "### Train on a Single CIFAR-10 Batch\n",
    "Instead of training the neural network on all the CIFAR-10 batches of data, let's use a single batch. This should save time while you iterate on the model to get a better accuracy.  Once the final validation accuracy is 50% or greater, run the model on all the data in the next section."
   ]
  },
  {
   "cell_type": "code",
   "execution_count": 158,
   "metadata": {
    "collapsed": false
   },
   "outputs": [
    {
     "name": "stdout",
     "output_type": "stream",
     "text": [
      "Checking the Training on a Single Batch...\n",
      "Epoch  1, CIFAR-10 Batch 1:  Acc: 0.1754000037908554 Loss: 2.2413489818573\n",
      "Epoch  2, CIFAR-10 Batch 1:  Acc: 0.23739998042583466 Loss: 2.0268983840942383\n",
      "Epoch  3, CIFAR-10 Batch 1:  Acc: 0.27619996666908264 Loss: 1.966383457183838\n",
      "Epoch  4, CIFAR-10 Batch 1:  Acc: 0.2919999957084656 Loss: 1.904874324798584\n",
      "Epoch  5, CIFAR-10 Batch 1:  Acc: 0.2937999963760376 Loss: 1.8732104301452637\n",
      "Epoch  6, CIFAR-10 Batch 1:  Acc: 0.3007999658584595 Loss: 1.8467795848846436\n",
      "Epoch  7, CIFAR-10 Batch 1:  Acc: 0.3149999976158142 Loss: 1.790547251701355\n",
      "Epoch  8, CIFAR-10 Batch 1:  Acc: 0.32440000772476196 Loss: 1.7809481620788574\n",
      "Epoch  9, CIFAR-10 Batch 1:  Acc: 0.3577999770641327 Loss: 1.7556349039077759\n",
      "Epoch 10, CIFAR-10 Batch 1:  Acc: 0.37019994854927063 Loss: 1.7416496276855469\n",
      "Epoch 11, CIFAR-10 Batch 1:  Acc: 0.39299994707107544 Loss: 1.6860543489456177\n",
      "Epoch 12, CIFAR-10 Batch 1:  Acc: 0.3997999429702759 Loss: 1.6629055738449097\n",
      "Epoch 13, CIFAR-10 Batch 1:  Acc: 0.40539997816085815 Loss: 1.6247371435165405\n",
      "Epoch 14, CIFAR-10 Batch 1:  Acc: 0.423799991607666 Loss: 1.5634939670562744\n",
      "Epoch 15, CIFAR-10 Batch 1:  Acc: 0.42559993267059326 Loss: 1.5518394708633423\n",
      "Epoch 16, CIFAR-10 Batch 1:  Acc: 0.4355999827384949 Loss: 1.5017096996307373\n",
      "Epoch 17, CIFAR-10 Batch 1:  Acc: 0.4349999725818634 Loss: 1.4853678941726685\n",
      "Epoch 18, CIFAR-10 Batch 1:  Acc: 0.44120001792907715 Loss: 1.4663102626800537\n",
      "Epoch 19, CIFAR-10 Batch 1:  Acc: 0.44599997997283936 Loss: 1.4331754446029663\n",
      "Epoch 20, CIFAR-10 Batch 1:  Acc: 0.454399973154068 Loss: 1.418091893196106\n",
      "Epoch 21, CIFAR-10 Batch 1:  Acc: 0.4607999622821808 Loss: 1.3911625146865845\n",
      "Epoch 22, CIFAR-10 Batch 1:  Acc: 0.45259997248649597 Loss: 1.3827109336853027\n",
      "Epoch 23, CIFAR-10 Batch 1:  Acc: 0.4575999677181244 Loss: 1.3563863039016724\n",
      "Epoch 24, CIFAR-10 Batch 1:  Acc: 0.4667999744415283 Loss: 1.340725064277649\n",
      "Epoch 25, CIFAR-10 Batch 1:  Acc: 0.4607999622821808 Loss: 1.3176575899124146\n",
      "Epoch 26, CIFAR-10 Batch 1:  Acc: 0.47359997034072876 Loss: 1.276315450668335\n",
      "Epoch 27, CIFAR-10 Batch 1:  Acc: 0.475600004196167 Loss: 1.241912603378296\n",
      "Epoch 28, CIFAR-10 Batch 1:  Acc: 0.47499996423721313 Loss: 1.2128236293792725\n",
      "Epoch 29, CIFAR-10 Batch 1:  Acc: 0.4869999885559082 Loss: 1.1872822046279907\n",
      "Epoch 30, CIFAR-10 Batch 1:  Acc: 0.4875999689102173 Loss: 1.158917784690857\n",
      "Epoch 31, CIFAR-10 Batch 1:  Acc: 0.49219998717308044 Loss: 1.1264621019363403\n",
      "Epoch 32, CIFAR-10 Batch 1:  Acc: 0.4893999397754669 Loss: 1.0895581245422363\n",
      "Epoch 33, CIFAR-10 Batch 1:  Acc: 0.49039995670318604 Loss: 1.079898476600647\n",
      "Epoch 34, CIFAR-10 Batch 1:  Acc: 0.49439993500709534 Loss: 1.0457422733306885\n",
      "Epoch 35, CIFAR-10 Batch 1:  Acc: 0.49379995465278625 Loss: 1.028113842010498\n",
      "Epoch 36, CIFAR-10 Batch 1:  Acc: 0.49299997091293335 Loss: 0.9860177040100098\n",
      "Epoch 37, CIFAR-10 Batch 1:  Acc: 0.4995999336242676 Loss: 0.9892438054084778\n",
      "Epoch 38, CIFAR-10 Batch 1:  Acc: 0.4975999593734741 Loss: 0.9455861449241638\n",
      "Epoch 39, CIFAR-10 Batch 1:  Acc: 0.503600001335144 Loss: 0.9217743873596191\n",
      "Epoch 40, CIFAR-10 Batch 1:  Acc: 0.5043999552726746 Loss: 0.9421759247779846\n",
      "Epoch 41, CIFAR-10 Batch 1:  Acc: 0.5091999769210815 Loss: 0.8831068277359009\n",
      "Epoch 42, CIFAR-10 Batch 1:  Acc: 0.5033999681472778 Loss: 0.8783636093139648\n",
      "Epoch 43, CIFAR-10 Batch 1:  Acc: 0.5023999214172363 Loss: 0.8966637849807739\n",
      "Epoch 44, CIFAR-10 Batch 1:  Acc: 0.5087999701499939 Loss: 0.8343760371208191\n",
      "Epoch 45, CIFAR-10 Batch 1:  Acc: 0.5125999450683594 Loss: 0.8265141248703003\n",
      "Epoch 46, CIFAR-10 Batch 1:  Acc: 0.520599901676178 Loss: 0.7661092877388\n",
      "Epoch 47, CIFAR-10 Batch 1:  Acc: 0.5121999382972717 Loss: 0.7782468795776367\n",
      "Epoch 48, CIFAR-10 Batch 1:  Acc: 0.4981999397277832 Loss: 0.7942917346954346\n",
      "Epoch 49, CIFAR-10 Batch 1:  Acc: 0.5095999836921692 Loss: 0.766413688659668\n",
      "Epoch 50, CIFAR-10 Batch 1:  Acc: 0.5219998955726624 Loss: 0.7027196884155273\n"
     ]
    }
   ],
   "source": [
    "\"\"\"\n",
    "DON'T MODIFY ANYTHING IN THIS CELL\n",
    "\"\"\"\n",
    "print('Checking the Training on a Single Batch...')\n",
    "with tf.Session() as sess:\n",
    "    # Initializing the variables\n",
    "    sess.run(tf.global_variables_initializer())\n",
    "    \n",
    "    # Training cycle\n",
    "    for epoch in range(epochs):\n",
    "        batch_i = 1\n",
    "        for batch_features, batch_labels in helper.load_preprocess_training_batch(batch_i, batch_size):\n",
    "            train_neural_network(sess, optimizer, keep_probability, batch_features, batch_labels)\n",
    "        print('Epoch {:>2}, CIFAR-10 Batch {}:  '.format(epoch + 1, batch_i), end='')\n",
    "        print_stats(sess, batch_features, batch_labels, cost, accuracy)"
   ]
  },
  {
   "cell_type": "markdown",
   "metadata": {},
   "source": [
    "### Fully Train the Model\n",
    "Now that you got a good accuracy with a single CIFAR-10 batch, try it with all five batches."
   ]
  },
  {
   "cell_type": "code",
   "execution_count": 159,
   "metadata": {
    "collapsed": false
   },
   "outputs": [
    {
     "name": "stdout",
     "output_type": "stream",
     "text": [
      "Training...\n",
      "Epoch  1, CIFAR-10 Batch 1:  Acc: 0.17880000174045563 Loss: 2.226203680038452\n",
      "Epoch  1, CIFAR-10 Batch 2:  Acc: 0.2369999885559082 Loss: 1.9336128234863281\n",
      "Epoch  1, CIFAR-10 Batch 3:  Acc: 0.2635999917984009 Loss: 1.882988452911377\n",
      "Epoch  1, CIFAR-10 Batch 4:  Acc: 0.2789999842643738 Loss: 1.8200246095657349\n",
      "Epoch  1, CIFAR-10 Batch 5:  Acc: 0.28119999170303345 Loss: 1.8551321029663086\n",
      "Epoch  2, CIFAR-10 Batch 1:  Acc: 0.29579997062683105 Loss: 1.8465068340301514\n",
      "Epoch  2, CIFAR-10 Batch 2:  Acc: 0.32440000772476196 Loss: 1.758941411972046\n",
      "Epoch  2, CIFAR-10 Batch 3:  Acc: 0.32760000228881836 Loss: 1.659275770187378\n",
      "Epoch  2, CIFAR-10 Batch 4:  Acc: 0.3531999886035919 Loss: 1.6261022090911865\n",
      "Epoch  2, CIFAR-10 Batch 5:  Acc: 0.3659999966621399 Loss: 1.699941873550415\n",
      "Epoch  3, CIFAR-10 Batch 1:  Acc: 0.36799997091293335 Loss: 1.734409213066101\n",
      "Epoch  3, CIFAR-10 Batch 2:  Acc: 0.3905999958515167 Loss: 1.6472129821777344\n",
      "Epoch  3, CIFAR-10 Batch 3:  Acc: 0.3901999890804291 Loss: 1.4562751054763794\n",
      "Epoch  3, CIFAR-10 Batch 4:  Acc: 0.40219998359680176 Loss: 1.5048109292984009\n",
      "Epoch  3, CIFAR-10 Batch 5:  Acc: 0.40939998626708984 Loss: 1.569394826889038\n",
      "Epoch  4, CIFAR-10 Batch 1:  Acc: 0.42139992117881775 Loss: 1.6159868240356445\n",
      "Epoch  4, CIFAR-10 Batch 2:  Acc: 0.43199995160102844 Loss: 1.5170395374298096\n",
      "Epoch  4, CIFAR-10 Batch 3:  Acc: 0.4389999508857727 Loss: 1.3410766124725342\n",
      "Epoch  4, CIFAR-10 Batch 4:  Acc: 0.4273999333381653 Loss: 1.4261730909347534\n",
      "Epoch  4, CIFAR-10 Batch 5:  Acc: 0.45579999685287476 Loss: 1.438948631286621\n",
      "Epoch  5, CIFAR-10 Batch 1:  Acc: 0.4553999602794647 Loss: 1.5073223114013672\n",
      "Epoch  5, CIFAR-10 Batch 2:  Acc: 0.45699992775917053 Loss: 1.4335603713989258\n",
      "Epoch  5, CIFAR-10 Batch 3:  Acc: 0.4691999554634094 Loss: 1.2421586513519287\n",
      "Epoch  5, CIFAR-10 Batch 4:  Acc: 0.4673999547958374 Loss: 1.3124566078186035\n",
      "Epoch  5, CIFAR-10 Batch 5:  Acc: 0.4835999608039856 Loss: 1.3590970039367676\n",
      "Epoch  6, CIFAR-10 Batch 1:  Acc: 0.4817999303340912 Loss: 1.4472954273223877\n",
      "Epoch  6, CIFAR-10 Batch 2:  Acc: 0.4731999635696411 Loss: 1.3956544399261475\n",
      "Epoch  6, CIFAR-10 Batch 3:  Acc: 0.488599956035614 Loss: 1.1740039587020874\n",
      "Epoch  6, CIFAR-10 Batch 4:  Acc: 0.49859994649887085 Loss: 1.2455323934555054\n",
      "Epoch  6, CIFAR-10 Batch 5:  Acc: 0.48799994587898254 Loss: 1.3086960315704346\n",
      "Epoch  7, CIFAR-10 Batch 1:  Acc: 0.5023999214172363 Loss: 1.3916646242141724\n",
      "Epoch  7, CIFAR-10 Batch 2:  Acc: 0.4941999614238739 Loss: 1.3025732040405273\n",
      "Epoch  7, CIFAR-10 Batch 3:  Acc: 0.5023999810218811 Loss: 1.1796083450317383\n",
      "Epoch  7, CIFAR-10 Batch 4:  Acc: 0.5183999538421631 Loss: 1.169694185256958\n",
      "Epoch  7, CIFAR-10 Batch 5:  Acc: 0.511199951171875 Loss: 1.2171558141708374\n",
      "Epoch  8, CIFAR-10 Batch 1:  Acc: 0.5199999213218689 Loss: 1.30997896194458\n",
      "Epoch  8, CIFAR-10 Batch 2:  Acc: 0.5113999247550964 Loss: 1.249916434288025\n",
      "Epoch  8, CIFAR-10 Batch 3:  Acc: 0.5109999179840088 Loss: 1.1192796230316162\n",
      "Epoch  8, CIFAR-10 Batch 4:  Acc: 0.5327999591827393 Loss: 1.1142525672912598\n",
      "Epoch  8, CIFAR-10 Batch 5:  Acc: 0.5295999050140381 Loss: 1.1663789749145508\n",
      "Epoch  9, CIFAR-10 Batch 1:  Acc: 0.5203999280929565 Loss: 1.2861279249191284\n",
      "Epoch  9, CIFAR-10 Batch 2:  Acc: 0.5269999504089355 Loss: 1.192244052886963\n",
      "Epoch  9, CIFAR-10 Batch 3:  Acc: 0.5233999490737915 Loss: 1.0648680925369263\n",
      "Epoch  9, CIFAR-10 Batch 4:  Acc: 0.5421999096870422 Loss: 1.0664069652557373\n",
      "Epoch  9, CIFAR-10 Batch 5:  Acc: 0.5309999585151672 Loss: 1.1361308097839355\n",
      "Epoch 10, CIFAR-10 Batch 1:  Acc: 0.5415999293327332 Loss: 1.2179269790649414\n",
      "Epoch 10, CIFAR-10 Batch 2:  Acc: 0.5247998833656311 Loss: 1.1533620357513428\n",
      "Epoch 10, CIFAR-10 Batch 3:  Acc: 0.5475999116897583 Loss: 1.0325504541397095\n",
      "Epoch 10, CIFAR-10 Batch 4:  Acc: 0.5503999590873718 Loss: 1.0047638416290283\n",
      "Epoch 10, CIFAR-10 Batch 5:  Acc: 0.5369999408721924 Loss: 1.1214035749435425\n",
      "Epoch 11, CIFAR-10 Batch 1:  Acc: 0.5589999556541443 Loss: 1.1494163274765015\n",
      "Epoch 11, CIFAR-10 Batch 2:  Acc: 0.5363999605178833 Loss: 1.0921066999435425\n",
      "Epoch 11, CIFAR-10 Batch 3:  Acc: 0.5481999516487122 Loss: 0.9855891466140747\n",
      "Epoch 11, CIFAR-10 Batch 4:  Acc: 0.5585999488830566 Loss: 0.9682544469833374\n",
      "Epoch 11, CIFAR-10 Batch 5:  Acc: 0.5633999705314636 Loss: 1.048980951309204\n",
      "Epoch 12, CIFAR-10 Batch 1:  Acc: 0.5723998546600342 Loss: 1.0859991312026978\n",
      "Epoch 12, CIFAR-10 Batch 2:  Acc: 0.550399899482727 Loss: 1.0710569620132446\n",
      "Epoch 12, CIFAR-10 Batch 3:  Acc: 0.5595999360084534 Loss: 0.9662208557128906\n",
      "Epoch 12, CIFAR-10 Batch 4:  Acc: 0.5745999217033386 Loss: 0.9187723994255066\n",
      "Epoch 12, CIFAR-10 Batch 5:  Acc: 0.5631998777389526 Loss: 1.0399627685546875\n",
      "Epoch 13, CIFAR-10 Batch 1:  Acc: 0.5757998824119568 Loss: 1.0702497959136963\n",
      "Epoch 13, CIFAR-10 Batch 2:  Acc: 0.555199921131134 Loss: 1.0187644958496094\n",
      "Epoch 13, CIFAR-10 Batch 3:  Acc: 0.5711999535560608 Loss: 0.9115405678749084\n",
      "Epoch 13, CIFAR-10 Batch 4:  Acc: 0.5881999135017395 Loss: 0.8984431028366089\n",
      "Epoch 13, CIFAR-10 Batch 5:  Acc: 0.5747998952865601 Loss: 0.9952119588851929\n",
      "Epoch 14, CIFAR-10 Batch 1:  Acc: 0.5817999243736267 Loss: 1.0068777799606323\n",
      "Epoch 14, CIFAR-10 Batch 2:  Acc: 0.5719999074935913 Loss: 0.9633890986442566\n",
      "Epoch 14, CIFAR-10 Batch 3:  Acc: 0.5771999359130859 Loss: 0.8861043453216553\n",
      "Epoch 14, CIFAR-10 Batch 4:  Acc: 0.5937999486923218 Loss: 0.8586980700492859\n",
      "Epoch 14, CIFAR-10 Batch 5:  Acc: 0.5823999047279358 Loss: 0.950086236000061\n",
      "Epoch 15, CIFAR-10 Batch 1:  Acc: 0.5859999060630798 Loss: 0.9902316927909851\n",
      "Epoch 15, CIFAR-10 Batch 2:  Acc: 0.5817999839782715 Loss: 0.9398336410522461\n",
      "Epoch 15, CIFAR-10 Batch 3:  Acc: 0.5731998682022095 Loss: 0.8543508648872375\n",
      "Epoch 15, CIFAR-10 Batch 4:  Acc: 0.6013998985290527 Loss: 0.8173103928565979\n",
      "Epoch 15, CIFAR-10 Batch 5:  Acc: 0.5865999460220337 Loss: 0.9364800453186035\n",
      "Epoch 16, CIFAR-10 Batch 1:  Acc: 0.5909999012947083 Loss: 0.9676540493965149\n",
      "Epoch 16, CIFAR-10 Batch 2:  Acc: 0.5791999101638794 Loss: 0.9145694375038147\n",
      "Epoch 16, CIFAR-10 Batch 3:  Acc: 0.5853999257087708 Loss: 0.8577209115028381\n",
      "Epoch 16, CIFAR-10 Batch 4:  Acc: 0.6035999655723572 Loss: 0.811599612236023\n",
      "Epoch 16, CIFAR-10 Batch 5:  Acc: 0.6045998930931091 Loss: 0.8981480002403259\n",
      "Epoch 17, CIFAR-10 Batch 1:  Acc: 0.5963999032974243 Loss: 0.9714951515197754\n",
      "Epoch 17, CIFAR-10 Batch 2:  Acc: 0.5913999080657959 Loss: 0.8707564473152161\n",
      "Epoch 17, CIFAR-10 Batch 3:  Acc: 0.5983999371528625 Loss: 0.8338942527770996\n",
      "Epoch 17, CIFAR-10 Batch 4:  Acc: 0.6111999750137329 Loss: 0.795118510723114\n",
      "Epoch 17, CIFAR-10 Batch 5:  Acc: 0.609799861907959 Loss: 0.8398147821426392\n",
      "Epoch 18, CIFAR-10 Batch 1:  Acc: 0.604999840259552 Loss: 0.9262722134590149\n",
      "Epoch 18, CIFAR-10 Batch 2:  Acc: 0.5999999046325684 Loss: 0.842928946018219\n",
      "Epoch 18, CIFAR-10 Batch 3:  Acc: 0.6001998782157898 Loss: 0.7654184103012085\n",
      "Epoch 18, CIFAR-10 Batch 4:  Acc: 0.612799882888794 Loss: 0.7782278060913086\n",
      "Epoch 18, CIFAR-10 Batch 5:  Acc: 0.6079999208450317 Loss: 0.8347100019454956\n",
      "Epoch 19, CIFAR-10 Batch 1:  Acc: 0.6065999269485474 Loss: 0.8739418983459473\n",
      "Epoch 19, CIFAR-10 Batch 2:  Acc: 0.6141998767852783 Loss: 0.8152300715446472\n",
      "Epoch 19, CIFAR-10 Batch 3:  Acc: 0.6117998361587524 Loss: 0.7583877444267273\n",
      "Epoch 19, CIFAR-10 Batch 4:  Acc: 0.605199933052063 Loss: 0.7736740112304688\n",
      "Epoch 19, CIFAR-10 Batch 5:  Acc: 0.6143999099731445 Loss: 0.8072420954704285\n",
      "Epoch 20, CIFAR-10 Batch 1:  Acc: 0.6045998930931091 Loss: 0.8753588199615479\n",
      "Epoch 20, CIFAR-10 Batch 2:  Acc: 0.6155999302864075 Loss: 0.7791430950164795\n",
      "Epoch 20, CIFAR-10 Batch 3:  Acc: 0.6117998957633972 Loss: 0.7486189007759094\n",
      "Epoch 20, CIFAR-10 Batch 4:  Acc: 0.6197999715805054 Loss: 0.7416241765022278\n",
      "Epoch 20, CIFAR-10 Batch 5:  Acc: 0.6151999235153198 Loss: 0.7887402772903442\n",
      "Epoch 21, CIFAR-10 Batch 1:  Acc: 0.6059999465942383 Loss: 0.8748589158058167\n",
      "Epoch 21, CIFAR-10 Batch 2:  Acc: 0.6025999188423157 Loss: 0.7534373998641968\n",
      "Epoch 21, CIFAR-10 Batch 3:  Acc: 0.6177998781204224 Loss: 0.7207498550415039\n",
      "Epoch 21, CIFAR-10 Batch 4:  Acc: 0.6157999038696289 Loss: 0.7091636657714844\n",
      "Epoch 21, CIFAR-10 Batch 5:  Acc: 0.6269999146461487 Loss: 0.7770528793334961\n",
      "Epoch 22, CIFAR-10 Batch 1:  Acc: 0.6077999472618103 Loss: 0.8244185447692871\n",
      "Epoch 22, CIFAR-10 Batch 2:  Acc: 0.6089999079704285 Loss: 0.7399312257766724\n",
      "Epoch 22, CIFAR-10 Batch 3:  Acc: 0.6135998964309692 Loss: 0.6891166567802429\n",
      "Epoch 22, CIFAR-10 Batch 4:  Acc: 0.6235998868942261 Loss: 0.7060480713844299\n",
      "Epoch 22, CIFAR-10 Batch 5:  Acc: 0.6271998882293701 Loss: 0.7367373704910278\n",
      "Epoch 23, CIFAR-10 Batch 1:  Acc: 0.6079999208450317 Loss: 0.8258365392684937\n",
      "Epoch 23, CIFAR-10 Batch 2:  Acc: 0.6097999215126038 Loss: 0.7132145166397095\n",
      "Epoch 23, CIFAR-10 Batch 3:  Acc: 0.6303998827934265 Loss: 0.6714725494384766\n",
      "Epoch 23, CIFAR-10 Batch 4:  Acc: 0.6239999532699585 Loss: 0.6961455941200256\n",
      "Epoch 23, CIFAR-10 Batch 5:  Acc: 0.6289998888969421 Loss: 0.6871570944786072\n",
      "Epoch 24, CIFAR-10 Batch 1:  Acc: 0.6147998571395874 Loss: 0.8125004172325134\n",
      "Epoch 24, CIFAR-10 Batch 2:  Acc: 0.5981998443603516 Loss: 0.7374380230903625\n",
      "Epoch 24, CIFAR-10 Batch 3:  Acc: 0.6143999099731445 Loss: 0.6935302019119263\n",
      "Epoch 24, CIFAR-10 Batch 4:  Acc: 0.6209999322891235 Loss: 0.6672806739807129\n",
      "Epoch 24, CIFAR-10 Batch 5:  Acc: 0.6263999342918396 Loss: 0.711013674736023\n",
      "Epoch 25, CIFAR-10 Batch 1:  Acc: 0.6215999126434326 Loss: 0.7850985527038574\n",
      "Epoch 25, CIFAR-10 Batch 2:  Acc: 0.5863999724388123 Loss: 0.7119114398956299\n",
      "Epoch 25, CIFAR-10 Batch 3:  Acc: 0.6221998929977417 Loss: 0.6460838317871094\n",
      "Epoch 25, CIFAR-10 Batch 4:  Acc: 0.6245999336242676 Loss: 0.6476917266845703\n",
      "Epoch 25, CIFAR-10 Batch 5:  Acc: 0.6309999227523804 Loss: 0.6822239756584167\n",
      "Epoch 26, CIFAR-10 Batch 1:  Acc: 0.6237998604774475 Loss: 0.7828385829925537\n",
      "Epoch 26, CIFAR-10 Batch 2:  Acc: 0.602199912071228 Loss: 0.6838778257369995\n",
      "Epoch 26, CIFAR-10 Batch 3:  Acc: 0.6291999220848083 Loss: 0.6022798418998718\n",
      "Epoch 26, CIFAR-10 Batch 4:  Acc: 0.6201999187469482 Loss: 0.6391708254814148\n",
      "Epoch 26, CIFAR-10 Batch 5:  Acc: 0.6215999126434326 Loss: 0.6570807099342346\n",
      "Epoch 27, CIFAR-10 Batch 1:  Acc: 0.6237998604774475 Loss: 0.7473893761634827\n",
      "Epoch 27, CIFAR-10 Batch 2:  Acc: 0.6131998896598816 Loss: 0.651966392993927\n",
      "Epoch 27, CIFAR-10 Batch 3:  Acc: 0.6275998950004578 Loss: 0.6136422157287598\n",
      "Epoch 27, CIFAR-10 Batch 4:  Acc: 0.6153998374938965 Loss: 0.6199619174003601\n",
      "Epoch 27, CIFAR-10 Batch 5:  Acc: 0.6289998888969421 Loss: 0.6357018947601318\n",
      "Epoch 28, CIFAR-10 Batch 1:  Acc: 0.6235998868942261 Loss: 0.7492701411247253\n",
      "Epoch 28, CIFAR-10 Batch 2:  Acc: 0.6167998909950256 Loss: 0.6396345496177673\n",
      "Epoch 28, CIFAR-10 Batch 3:  Acc: 0.6353998780250549 Loss: 0.6002185940742493\n",
      "Epoch 28, CIFAR-10 Batch 4:  Acc: 0.6269999146461487 Loss: 0.603901207447052\n",
      "Epoch 28, CIFAR-10 Batch 5:  Acc: 0.6327998638153076 Loss: 0.6344356536865234\n",
      "Epoch 29, CIFAR-10 Batch 1:  Acc: 0.6263998746871948 Loss: 0.7498077750205994\n",
      "Epoch 29, CIFAR-10 Batch 2:  Acc: 0.6053999066352844 Loss: 0.6638056039810181\n",
      "Epoch 29, CIFAR-10 Batch 3:  Acc: 0.6189998984336853 Loss: 0.6176465749740601\n",
      "Epoch 29, CIFAR-10 Batch 4:  Acc: 0.6275999546051025 Loss: 0.6110653281211853\n",
      "Epoch 29, CIFAR-10 Batch 5:  Acc: 0.6421998739242554 Loss: 0.6156758666038513\n",
      "Epoch 30, CIFAR-10 Batch 1:  Acc: 0.6285998821258545 Loss: 0.7253261208534241\n",
      "Epoch 30, CIFAR-10 Batch 2:  Acc: 0.6115999221801758 Loss: 0.6588510870933533\n",
      "Epoch 30, CIFAR-10 Batch 3:  Acc: 0.637799859046936 Loss: 0.5775813460350037\n",
      "Epoch 30, CIFAR-10 Batch 4:  Acc: 0.6289998292922974 Loss: 0.5818463563919067\n",
      "Epoch 30, CIFAR-10 Batch 5:  Acc: 0.6393999457359314 Loss: 0.5934213995933533\n",
      "Epoch 31, CIFAR-10 Batch 1:  Acc: 0.6329998970031738 Loss: 0.6781522035598755\n",
      "Epoch 31, CIFAR-10 Batch 2:  Acc: 0.6089998483657837 Loss: 0.6227377653121948\n",
      "Epoch 31, CIFAR-10 Batch 3:  Acc: 0.6333999037742615 Loss: 0.5686600208282471\n",
      "Epoch 31, CIFAR-10 Batch 4:  Acc: 0.6329998970031738 Loss: 0.5761604905128479\n",
      "Epoch 31, CIFAR-10 Batch 5:  Acc: 0.6335998773574829 Loss: 0.5946977734565735\n",
      "Epoch 32, CIFAR-10 Batch 1:  Acc: 0.6333999037742615 Loss: 0.6835489869117737\n",
      "Epoch 32, CIFAR-10 Batch 2:  Acc: 0.6219998598098755 Loss: 0.615888237953186\n",
      "Epoch 32, CIFAR-10 Batch 3:  Acc: 0.6373998522758484 Loss: 0.5739723443984985\n",
      "Epoch 32, CIFAR-10 Batch 4:  Acc: 0.6323999166488647 Loss: 0.5739156603813171\n",
      "Epoch 32, CIFAR-10 Batch 5:  Acc: 0.6379998326301575 Loss: 0.5720251202583313\n",
      "Epoch 33, CIFAR-10 Batch 1:  Acc: 0.6369999051094055 Loss: 0.6788733601570129\n",
      "Epoch 33, CIFAR-10 Batch 2:  Acc: 0.6243999600410461 Loss: 0.6105153560638428\n",
      "Epoch 33, CIFAR-10 Batch 3:  Acc: 0.6435999274253845 Loss: 0.5576465725898743\n",
      "Epoch 33, CIFAR-10 Batch 4:  Acc: 0.6319999098777771 Loss: 0.5795053839683533\n",
      "Epoch 33, CIFAR-10 Batch 5:  Acc: 0.6385999321937561 Loss: 0.5999098420143127\n",
      "Epoch 34, CIFAR-10 Batch 1:  Acc: 0.637799859046936 Loss: 0.6680290102958679\n",
      "Epoch 34, CIFAR-10 Batch 2:  Acc: 0.6217999458312988 Loss: 0.5874066948890686\n",
      "Epoch 34, CIFAR-10 Batch 3:  Acc: 0.6327999234199524 Loss: 0.5696147680282593\n",
      "Epoch 34, CIFAR-10 Batch 4:  Acc: 0.6365998983383179 Loss: 0.5580016374588013\n",
      "Epoch 34, CIFAR-10 Batch 5:  Acc: 0.63319993019104 Loss: 0.570671558380127\n",
      "Epoch 35, CIFAR-10 Batch 1:  Acc: 0.6369998455047607 Loss: 0.6305698156356812\n",
      "Epoch 35, CIFAR-10 Batch 2:  Acc: 0.625799834728241 Loss: 0.5750766396522522\n",
      "Epoch 35, CIFAR-10 Batch 3:  Acc: 0.6379998326301575 Loss: 0.5261097550392151\n",
      "Epoch 35, CIFAR-10 Batch 4:  Acc: 0.6357998847961426 Loss: 0.5399975180625916\n",
      "Epoch 35, CIFAR-10 Batch 5:  Acc: 0.6321999430656433 Loss: 0.5510468482971191\n",
      "Epoch 36, CIFAR-10 Batch 1:  Acc: 0.6345998644828796 Loss: 0.630085825920105\n",
      "Epoch 36, CIFAR-10 Batch 2:  Acc: 0.6359999179840088 Loss: 0.5373462438583374\n",
      "Epoch 36, CIFAR-10 Batch 3:  Acc: 0.6423998475074768 Loss: 0.5313862562179565\n",
      "Epoch 36, CIFAR-10 Batch 4:  Acc: 0.6285999417304993 Loss: 0.5410833954811096\n",
      "Epoch 36, CIFAR-10 Batch 5:  Acc: 0.6273999214172363 Loss: 0.541102409362793\n",
      "Epoch 37, CIFAR-10 Batch 1:  Acc: 0.6311998963356018 Loss: 0.5984025001525879\n",
      "Epoch 37, CIFAR-10 Batch 2:  Acc: 0.6263999342918396 Loss: 0.5421856045722961\n",
      "Epoch 37, CIFAR-10 Batch 3:  Acc: 0.6449999213218689 Loss: 0.5177216529846191\n",
      "Epoch 37, CIFAR-10 Batch 4:  Acc: 0.6281999349594116 Loss: 0.5518684983253479\n",
      "Epoch 37, CIFAR-10 Batch 5:  Acc: 0.6357999444007874 Loss: 0.5405473709106445\n",
      "Epoch 38, CIFAR-10 Batch 1:  Acc: 0.6337999105453491 Loss: 0.5895611643791199\n",
      "Epoch 38, CIFAR-10 Batch 2:  Acc: 0.6383998990058899 Loss: 0.5278182029724121\n",
      "Epoch 38, CIFAR-10 Batch 3:  Acc: 0.6325998902320862 Loss: 0.5082324147224426\n",
      "Epoch 38, CIFAR-10 Batch 4:  Acc: 0.6255999207496643 Loss: 0.5256531834602356\n",
      "Epoch 38, CIFAR-10 Batch 5:  Acc: 0.6337999105453491 Loss: 0.5225280523300171\n",
      "Epoch 39, CIFAR-10 Batch 1:  Acc: 0.6309998631477356 Loss: 0.5913881063461304\n",
      "Epoch 39, CIFAR-10 Batch 2:  Acc: 0.6365998983383179 Loss: 0.5303713083267212\n",
      "Epoch 39, CIFAR-10 Batch 3:  Acc: 0.6331998705863953 Loss: 0.5155973434448242\n",
      "Epoch 39, CIFAR-10 Batch 4:  Acc: 0.6353998780250549 Loss: 0.5068579912185669\n",
      "Epoch 39, CIFAR-10 Batch 5:  Acc: 0.63319993019104 Loss: 0.5439597964286804\n",
      "Epoch 40, CIFAR-10 Batch 1:  Acc: 0.6353998780250549 Loss: 0.6025592088699341\n",
      "Epoch 40, CIFAR-10 Batch 2:  Acc: 0.6395998597145081 Loss: 0.514366626739502\n",
      "Epoch 40, CIFAR-10 Batch 3:  Acc: 0.6363998651504517 Loss: 0.45724841952323914\n",
      "Epoch 40, CIFAR-10 Batch 4:  Acc: 0.6367999315261841 Loss: 0.4940372109413147\n",
      "Epoch 40, CIFAR-10 Batch 5:  Acc: 0.6385998725891113 Loss: 0.5086151957511902\n",
      "Epoch 41, CIFAR-10 Batch 1:  Acc: 0.6281999349594116 Loss: 0.5620176792144775\n",
      "Epoch 41, CIFAR-10 Batch 2:  Acc: 0.6379998922348022 Loss: 0.4777829051017761\n",
      "Epoch 41, CIFAR-10 Batch 3:  Acc: 0.6317998170852661 Loss: 0.48932772874832153\n",
      "Epoch 41, CIFAR-10 Batch 4:  Acc: 0.6409999132156372 Loss: 0.47762441635131836\n",
      "Epoch 41, CIFAR-10 Batch 5:  Acc: 0.6351999044418335 Loss: 0.496124267578125\n",
      "Epoch 42, CIFAR-10 Batch 1:  Acc: 0.6365998387336731 Loss: 0.5768064260482788\n",
      "Epoch 42, CIFAR-10 Batch 2:  Acc: 0.6363998651504517 Loss: 0.4738062024116516\n",
      "Epoch 42, CIFAR-10 Batch 3:  Acc: 0.6349998712539673 Loss: 0.46195337176322937\n",
      "Epoch 42, CIFAR-10 Batch 4:  Acc: 0.638999879360199 Loss: 0.4674912989139557\n",
      "Epoch 42, CIFAR-10 Batch 5:  Acc: 0.6313998699188232 Loss: 0.49487781524658203\n",
      "Epoch 43, CIFAR-10 Batch 1:  Acc: 0.6345999240875244 Loss: 0.5490888357162476\n",
      "Epoch 43, CIFAR-10 Batch 2:  Acc: 0.639799952507019 Loss: 0.48438769578933716\n",
      "Epoch 43, CIFAR-10 Batch 3:  Acc: 0.6319999694824219 Loss: 0.4855318069458008\n",
      "Epoch 43, CIFAR-10 Batch 4:  Acc: 0.6361998319625854 Loss: 0.4937967360019684\n",
      "Epoch 43, CIFAR-10 Batch 5:  Acc: 0.6235998868942261 Loss: 0.48774439096450806\n",
      "Epoch 44, CIFAR-10 Batch 1:  Acc: 0.6383999586105347 Loss: 0.5568996071815491\n",
      "Epoch 44, CIFAR-10 Batch 2:  Acc: 0.6343998908996582 Loss: 0.4612930417060852\n",
      "Epoch 44, CIFAR-10 Batch 3:  Acc: 0.6289999485015869 Loss: 0.4950222969055176\n",
      "Epoch 44, CIFAR-10 Batch 4:  Acc: 0.632599949836731 Loss: 0.4869251847267151\n",
      "Epoch 44, CIFAR-10 Batch 5:  Acc: 0.6315998435020447 Loss: 0.4553658664226532\n",
      "Epoch 45, CIFAR-10 Batch 1:  Acc: 0.6395999193191528 Loss: 0.5203150510787964\n",
      "Epoch 45, CIFAR-10 Batch 2:  Acc: 0.6377999186515808 Loss: 0.48358213901519775\n",
      "Epoch 45, CIFAR-10 Batch 3:  Acc: 0.6321998834609985 Loss: 0.4828166365623474\n",
      "Epoch 45, CIFAR-10 Batch 4:  Acc: 0.6373998522758484 Loss: 0.46234628558158875\n",
      "Epoch 45, CIFAR-10 Batch 5:  Acc: 0.6309998631477356 Loss: 0.45975735783576965\n",
      "Epoch 46, CIFAR-10 Batch 1:  Acc: 0.6311998963356018 Loss: 0.5415859818458557\n",
      "Epoch 46, CIFAR-10 Batch 2:  Acc: 0.6285998821258545 Loss: 0.49769026041030884\n",
      "Epoch 46, CIFAR-10 Batch 3:  Acc: 0.6319999098777771 Loss: 0.43629443645477295\n",
      "Epoch 46, CIFAR-10 Batch 4:  Acc: 0.6329998970031738 Loss: 0.46080106496810913\n",
      "Epoch 46, CIFAR-10 Batch 5:  Acc: 0.6315998435020447 Loss: 0.45504915714263916\n",
      "Epoch 47, CIFAR-10 Batch 1:  Acc: 0.6327998638153076 Loss: 0.5376572608947754\n",
      "Epoch 47, CIFAR-10 Batch 2:  Acc: 0.6435998678207397 Loss: 0.48667919635772705\n",
      "Epoch 47, CIFAR-10 Batch 3:  Acc: 0.6351999044418335 Loss: 0.438440203666687\n",
      "Epoch 47, CIFAR-10 Batch 4:  Acc: 0.6369999051094055 Loss: 0.42063915729522705\n",
      "Epoch 47, CIFAR-10 Batch 5:  Acc: 0.630599856376648 Loss: 0.48260951042175293\n",
      "Epoch 48, CIFAR-10 Batch 1:  Acc: 0.63319993019104 Loss: 0.5146256685256958\n",
      "Epoch 48, CIFAR-10 Batch 2:  Acc: 0.6369999647140503 Loss: 0.5014367699623108\n",
      "Epoch 48, CIFAR-10 Batch 3:  Acc: 0.6325998902320862 Loss: 0.4335886538028717\n",
      "Epoch 48, CIFAR-10 Batch 4:  Acc: 0.6397998929023743 Loss: 0.4559885263442993\n",
      "Epoch 48, CIFAR-10 Batch 5:  Acc: 0.6281998753547668 Loss: 0.4534803330898285\n",
      "Epoch 49, CIFAR-10 Batch 1:  Acc: 0.6297998428344727 Loss: 0.49747276306152344\n",
      "Epoch 49, CIFAR-10 Batch 2:  Acc: 0.6287998557090759 Loss: 0.4702129364013672\n",
      "Epoch 49, CIFAR-10 Batch 3:  Acc: 0.636199951171875 Loss: 0.42810314893722534\n",
      "Epoch 49, CIFAR-10 Batch 4:  Acc: 0.6339999437332153 Loss: 0.4297458529472351\n",
      "Epoch 49, CIFAR-10 Batch 5:  Acc: 0.627799928188324 Loss: 0.4218025207519531\n",
      "Epoch 50, CIFAR-10 Batch 1:  Acc: 0.6317999362945557 Loss: 0.48885196447372437\n",
      "Epoch 50, CIFAR-10 Batch 2:  Acc: 0.6317999362945557 Loss: 0.43115317821502686\n",
      "Epoch 50, CIFAR-10 Batch 3:  Acc: 0.6307999491691589 Loss: 0.41904085874557495\n",
      "Epoch 50, CIFAR-10 Batch 4:  Acc: 0.6339999437332153 Loss: 0.4231746196746826\n",
      "Epoch 50, CIFAR-10 Batch 5:  Acc: 0.6299998760223389 Loss: 0.43371400237083435\n"
     ]
    }
   ],
   "source": [
    "\"\"\"\n",
    "DON'T MODIFY ANYTHING IN THIS CELL\n",
    "\"\"\"\n",
    "save_model_path = './image_classification'\n",
    "\n",
    "print('Training...')\n",
    "with tf.Session() as sess:\n",
    "    # Initializing the variables\n",
    "    sess.run(tf.global_variables_initializer())\n",
    "    \n",
    "    # Training cycle\n",
    "    for epoch in range(epochs):\n",
    "        # Loop over all batches\n",
    "        n_batches = 5\n",
    "        for batch_i in range(1, n_batches + 1):\n",
    "            for batch_features, batch_labels in helper.load_preprocess_training_batch(batch_i, batch_size):\n",
    "                train_neural_network(sess, optimizer, keep_probability, batch_features, batch_labels)\n",
    "            print('Epoch {:>2}, CIFAR-10 Batch {}:  '.format(epoch + 1, batch_i), end='')\n",
    "            print_stats(sess, batch_features, batch_labels, cost, accuracy)\n",
    "            \n",
    "    # Save Model\n",
    "    saver = tf.train.Saver()\n",
    "    save_path = saver.save(sess, save_model_path)"
   ]
  },
  {
   "cell_type": "markdown",
   "metadata": {},
   "source": [
    "# Checkpoint\n",
    "The model has been saved to disk.\n",
    "## Test Model\n",
    "Test your model against the test dataset.  This will be your final accuracy. You should have an accuracy greater than 50%. If you don't, keep tweaking the model architecture and parameters."
   ]
  },
  {
   "cell_type": "code",
   "execution_count": 160,
   "metadata": {
    "collapsed": false
   },
   "outputs": [
    {
     "name": "stdout",
     "output_type": "stream",
     "text": [
      "Testing Accuracy: 0.6317555159330368\n",
      "\n"
     ]
    },
    {
     "data": {
      "image/png": "[encoded data removed]",
      "text/plain": [
       "<matplotlib.figure.Figure at 0x1bb892cfa58>"
      ]
     },
     "metadata": {
      "image/png": {
       "height": 319,
       "width": 355
      }
     },
     "output_type": "display_data"
    }
   ],
   "source": [
    "\"\"\"\n",
    "DON'T MODIFY ANYTHING IN THIS CELL\n",
    "\"\"\"\n",
    "%matplotlib inline\n",
    "%config InlineBackend.figure_format = 'retina'\n",
    "\n",
    "import tensorflow as tf\n",
    "import pickle\n",
    "import helper\n",
    "import random\n",
    "\n",
    "# Set batch size if not already set\n",
    "try:\n",
    "    if batch_size:\n",
    "        pass\n",
    "except NameError:\n",
    "    batch_size = 64\n",
    "\n",
    "save_model_path = './image_classification'\n",
    "n_samples = 4\n",
    "top_n_predictions = 3\n",
    "\n",
    "def test_model():\n",
    "    \"\"\"\n",
    "    Test the saved model against the test dataset\n",
    "    \"\"\"\n",
    "\n",
    "    test_features, test_labels = pickle.load(open('preprocess_training.p', mode='rb'))\n",
    "    loaded_graph = tf.Graph()\n",
    "\n",
    "    with tf.Session(graph=loaded_graph) as sess:\n",
    "        # Load model\n",
    "        loader = tf.train.import_meta_graph(save_model_path + '.meta')\n",
    "        loader.restore(sess, save_model_path)\n",
    "\n",
    "        # Get Tensors from loaded model\n",
    "        loaded_x = loaded_graph.get_tensor_by_name('x:0')\n",
    "        loaded_y = loaded_graph.get_tensor_by_name('y:0')\n",
    "        loaded_keep_prob = loaded_graph.get_tensor_by_name('keep_prob:0')\n",
    "        loaded_logits = loaded_graph.get_tensor_by_name('logits:0')\n",
    "        loaded_acc = loaded_graph.get_tensor_by_name('accuracy:0')\n",
    "        \n",
    "        # Get accuracy in batches for memory limitations\n",
    "        test_batch_acc_total = 0\n",
    "        test_batch_count = 0\n",
    "        \n",
    "        for train_feature_batch, train_label_batch in helper.batch_features_labels(test_features, test_labels, batch_size):\n",
    "            test_batch_acc_total += sess.run(\n",
    "                loaded_acc,\n",
    "                feed_dict={loaded_x: train_feature_batch, loaded_y: train_label_batch, loaded_keep_prob: 1.0})\n",
    "            test_batch_count += 1\n",
    "\n",
    "        print('Testing Accuracy: {}\\n'.format(test_batch_acc_total/test_batch_count))\n",
    "\n",
    "        # Print Random Samples\n",
    "        random_test_features, random_test_labels = tuple(zip(*random.sample(list(zip(test_features, test_labels)), n_samples)))\n",
    "        random_test_predictions = sess.run(\n",
    "            tf.nn.top_k(tf.nn.softmax(loaded_logits), top_n_predictions),\n",
    "            feed_dict={loaded_x: random_test_features, loaded_y: random_test_labels, loaded_keep_prob: 1.0})\n",
    "        helper.display_image_predictions(random_test_features, random_test_labels, random_test_predictions)\n",
    "\n",
    "\n",
    "test_model()"
   ]
  },
  {
   "cell_type": "markdown",
   "metadata": {},
   "source": [
    "## Why 50-80% Accuracy?\n",
    "You might be wondering why you can't get an accuracy any higher. First things first, 50% isn't bad for a simple CNN.  Pure guessing would get you 10% accuracy. However, you might notice people are getting scores [well above 80%](http://rodrigob.github.io/are_we_there_yet/build/classification_datasets_results.html#43494641522d3130).  That's because we haven't taught you all there is to know about neural networks. We still need to cover a few more techniques.\n",
    "## Submitting This Project\n",
    "When submitting this project, make sure to run all the cells before saving the notebook.  Save the notebook file as \"dlnd_image_classification.ipynb\" and save it as a HTML file under \"File\" -> \"Download as\".  Include the \"helper.py\" and \"problem_unittests.py\" files in your submission."
   ]
  }
 ],
 "metadata": {
  "kernelspec": {
   "display_name": "Python 3",
   "language": "python",
   "name": "python3"
  },
  "language_info": {
   "codemirror_mode": {
    "name": "ipython",
    "version": 3
   },
   "file_extension": ".py",
   "mimetype": "text/x-python",
   "name": "python",
   "nbconvert_exporter": "python",
   "pygments_lexer": "ipython3",
   "version": "3.5.2"
  }
 },
 "nbformat": 4,
 "nbformat_minor": 0
}
